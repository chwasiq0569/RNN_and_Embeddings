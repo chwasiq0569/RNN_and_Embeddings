{
 "cells": [
  {
   "cell_type": "code",
   "execution_count": 1,
   "id": "df4984e4",
   "metadata": {
    "_cell_guid": "b1076dfc-b9ad-4769-8c92-a6c4dae69d19",
    "_uuid": "8f2839f25d086af736a60e9eeb907d3b93b6e0e5",
    "execution": {
     "iopub.execute_input": "2023-05-06T06:17:04.254046Z",
     "iopub.status.busy": "2023-05-06T06:17:04.253317Z",
     "iopub.status.idle": "2023-05-06T06:17:04.265196Z",
     "shell.execute_reply": "2023-05-06T06:17:04.263946Z"
    },
    "papermill": {
     "duration": 0.01938,
     "end_time": "2023-05-06T06:17:04.267420",
     "exception": false,
     "start_time": "2023-05-06T06:17:04.248040",
     "status": "completed"
    },
    "tags": []
   },
   "outputs": [],
   "source": [
    "# This Python 3 environment comes with many helpful analytics libraries installed\n",
    "# It is defined by the kaggle/python Docker image: https://github.com/kaggle/docker-python\n",
    "# For example, here's several helpful packages to load\n",
    "\n",
    "import numpy as np # linear algebra\n",
    "import pandas as pd # data processing, CSV file I/O (e.g. pd.read_csv)\n",
    "\n",
    "# Input data files are available in the read-only \"../input/\" directory\n",
    "# For example, running this (by clicking run or pressing Shift+Enter) will list all files under the input directory\n",
    "\n",
    "import os\n",
    "for dirname, _, filenames in os.walk('/kaggle/input'):\n",
    "    for filename in filenames:\n",
    "        print(os.path.join(dirname, filename))\n",
    "\n",
    "# You can write up to 20GB to the current directory (/kaggle/working/) that gets preserved as output when you create a version using \"Save & Run All\" \n",
    "# You can also write temporary files to /kaggle/temp/, but they won't be saved outside of the current session"
   ]
  },
  {
   "cell_type": "code",
   "execution_count": 2,
   "id": "17c9e936",
   "metadata": {
    "execution": {
     "iopub.execute_input": "2023-05-06T06:17:04.275697Z",
     "iopub.status.busy": "2023-05-06T06:17:04.274949Z",
     "iopub.status.idle": "2023-05-06T06:17:04.279314Z",
     "shell.execute_reply": "2023-05-06T06:17:04.278548Z"
    },
    "papermill": {
     "duration": 0.010631,
     "end_time": "2023-05-06T06:17:04.281245",
     "exception": false,
     "start_time": "2023-05-06T06:17:04.270614",
     "status": "completed"
    },
    "tags": []
   },
   "outputs": [],
   "source": [
    "docs = ['go pakistan',\n",
    "\t\t'pakistan pakistan',\n",
    "\t\t'hip hip hurray',\n",
    "\t\t'jeetega bhai jeetega pakistan jeetega',\n",
    "\t\t'pakistan zindabad',\n",
    "\t\t'king babar',\n",
    "\t\t'inzi inzi',\n",
    "\t\t'afridi afridi',\n",
    "\t\t'pm pak zindabad',\n",
    "\t\t'inquilab zindabad']"
   ]
  },
  {
   "cell_type": "code",
   "execution_count": 3,
   "id": "6a9dfcb1",
   "metadata": {
    "execution": {
     "iopub.execute_input": "2023-05-06T06:17:04.289102Z",
     "iopub.status.busy": "2023-05-06T06:17:04.288370Z",
     "iopub.status.idle": "2023-05-06T06:17:13.423657Z",
     "shell.execute_reply": "2023-05-06T06:17:13.422398Z"
    },
    "papermill": {
     "duration": 9.142528,
     "end_time": "2023-05-06T06:17:13.426678",
     "exception": false,
     "start_time": "2023-05-06T06:17:04.284150",
     "status": "completed"
    },
    "tags": []
   },
   "outputs": [
    {
     "name": "stderr",
     "output_type": "stream",
     "text": [
      "/opt/conda/lib/python3.10/site-packages/scipy/__init__.py:146: UserWarning: A NumPy version >=1.16.5 and <1.23.0 is required for this version of SciPy (detected version 1.23.5\n",
      "  warnings.warn(f\"A NumPy version >={np_minversion} and <{np_maxversion}\"\n"
     ]
    }
   ],
   "source": [
    "from keras.preprocessing.text import Tokenizer\n",
    "tokenizer = Tokenizer(oov_token='<nothing>')"
   ]
  },
  {
   "cell_type": "code",
   "execution_count": 4,
   "id": "2da4d277",
   "metadata": {
    "execution": {
     "iopub.execute_input": "2023-05-06T06:17:13.437045Z",
     "iopub.status.busy": "2023-05-06T06:17:13.435113Z",
     "iopub.status.idle": "2023-05-06T06:17:13.441797Z",
     "shell.execute_reply": "2023-05-06T06:17:13.440597Z"
    },
    "papermill": {
     "duration": 0.013973,
     "end_time": "2023-05-06T06:17:13.444092",
     "exception": false,
     "start_time": "2023-05-06T06:17:13.430119",
     "status": "completed"
    },
    "tags": []
   },
   "outputs": [],
   "source": [
    "tokenizer.fit_on_texts(docs)"
   ]
  },
  {
   "cell_type": "code",
   "execution_count": 5,
   "id": "9c3ee7a5",
   "metadata": {
    "execution": {
     "iopub.execute_input": "2023-05-06T06:17:13.452432Z",
     "iopub.status.busy": "2023-05-06T06:17:13.452081Z",
     "iopub.status.idle": "2023-05-06T06:17:13.460173Z",
     "shell.execute_reply": "2023-05-06T06:17:13.458856Z"
    },
    "papermill": {
     "duration": 0.014807,
     "end_time": "2023-05-06T06:17:13.462313",
     "exception": false,
     "start_time": "2023-05-06T06:17:13.447506",
     "status": "completed"
    },
    "tags": []
   },
   "outputs": [
    {
     "data": {
      "text/plain": [
       "{'<nothing>': 1,\n",
       " 'pakistan': 2,\n",
       " 'jeetega': 3,\n",
       " 'zindabad': 4,\n",
       " 'hip': 5,\n",
       " 'inzi': 6,\n",
       " 'afridi': 7,\n",
       " 'go': 8,\n",
       " 'hurray': 9,\n",
       " 'bhai': 10,\n",
       " 'king': 11,\n",
       " 'babar': 12,\n",
       " 'pm': 13,\n",
       " 'pak': 14,\n",
       " 'inquilab': 15}"
      ]
     },
     "execution_count": 5,
     "metadata": {},
     "output_type": "execute_result"
    }
   ],
   "source": [
    "tokenizer.word_index"
   ]
  },
  {
   "cell_type": "code",
   "execution_count": 6,
   "id": "4aa12961",
   "metadata": {
    "execution": {
     "iopub.execute_input": "2023-05-06T06:17:13.470184Z",
     "iopub.status.busy": "2023-05-06T06:17:13.469836Z",
     "iopub.status.idle": "2023-05-06T06:17:13.477501Z",
     "shell.execute_reply": "2023-05-06T06:17:13.476399Z"
    },
    "papermill": {
     "duration": 0.014036,
     "end_time": "2023-05-06T06:17:13.479600",
     "exception": false,
     "start_time": "2023-05-06T06:17:13.465564",
     "status": "completed"
    },
    "tags": []
   },
   "outputs": [
    {
     "data": {
      "text/plain": [
       "OrderedDict([('go', 1),\n",
       "             ('pakistan', 5),\n",
       "             ('hip', 2),\n",
       "             ('hurray', 1),\n",
       "             ('jeetega', 3),\n",
       "             ('bhai', 1),\n",
       "             ('zindabad', 3),\n",
       "             ('king', 1),\n",
       "             ('babar', 1),\n",
       "             ('inzi', 2),\n",
       "             ('afridi', 2),\n",
       "             ('pm', 1),\n",
       "             ('pak', 1),\n",
       "             ('inquilab', 1)])"
      ]
     },
     "execution_count": 6,
     "metadata": {},
     "output_type": "execute_result"
    }
   ],
   "source": [
    "tokenizer.word_counts"
   ]
  },
  {
   "cell_type": "code",
   "execution_count": 7,
   "id": "9cd7c6b6",
   "metadata": {
    "execution": {
     "iopub.execute_input": "2023-05-06T06:17:13.489008Z",
     "iopub.status.busy": "2023-05-06T06:17:13.488155Z",
     "iopub.status.idle": "2023-05-06T06:17:13.495388Z",
     "shell.execute_reply": "2023-05-06T06:17:13.494316Z"
    },
    "papermill": {
     "duration": 0.01477,
     "end_time": "2023-05-06T06:17:13.497653",
     "exception": false,
     "start_time": "2023-05-06T06:17:13.482883",
     "status": "completed"
    },
    "tags": []
   },
   "outputs": [
    {
     "data": {
      "text/plain": [
       "10"
      ]
     },
     "execution_count": 7,
     "metadata": {},
     "output_type": "execute_result"
    }
   ],
   "source": [
    "tokenizer.document_count"
   ]
  },
  {
   "cell_type": "code",
   "execution_count": 8,
   "id": "c55ea9cc",
   "metadata": {
    "execution": {
     "iopub.execute_input": "2023-05-06T06:17:13.505931Z",
     "iopub.status.busy": "2023-05-06T06:17:13.505585Z",
     "iopub.status.idle": "2023-05-06T06:17:13.513632Z",
     "shell.execute_reply": "2023-05-06T06:17:13.512508Z"
    },
    "papermill": {
     "duration": 0.01483,
     "end_time": "2023-05-06T06:17:13.516030",
     "exception": false,
     "start_time": "2023-05-06T06:17:13.501200",
     "status": "completed"
    },
    "tags": []
   },
   "outputs": [
    {
     "data": {
      "text/plain": [
       "[[8, 2],\n",
       " [2, 2],\n",
       " [5, 5, 9],\n",
       " [3, 10, 3, 2, 3],\n",
       " [2, 4],\n",
       " [11, 12],\n",
       " [6, 6],\n",
       " [7, 7],\n",
       " [13, 14, 4],\n",
       " [15, 4]]"
      ]
     },
     "execution_count": 8,
     "metadata": {},
     "output_type": "execute_result"
    }
   ],
   "source": [
    "sequences = tokenizer.texts_to_sequences(docs)\n",
    "sequences"
   ]
  },
  {
   "cell_type": "code",
   "execution_count": null,
   "id": "8abeb90c",
   "metadata": {
    "papermill": {
     "duration": 0.003143,
     "end_time": "2023-05-06T06:17:13.522868",
     "exception": false,
     "start_time": "2023-05-06T06:17:13.519725",
     "status": "completed"
    },
    "tags": []
   },
   "outputs": [],
   "source": []
  }
 ],
 "metadata": {
  "kernelspec": {
   "display_name": "Python 3",
   "language": "python",
   "name": "python3"
  },
  "language_info": {
   "codemirror_mode": {
    "name": "ipython",
    "version": 3
   },
   "file_extension": ".py",
   "mimetype": "text/x-python",
   "name": "python",
   "nbconvert_exporter": "python",
   "pygments_lexer": "ipython3",
   "version": "3.10.10"
  },
  "papermill": {
   "default_parameters": {},
   "duration": 23.718106,
   "end_time": "2023-05-06T06:17:16.726830",
   "environment_variables": {},
   "exception": null,
   "input_path": "__notebook__.ipynb",
   "output_path": "__notebook__.ipynb",
   "parameters": {},
   "start_time": "2023-05-06T06:16:53.008724",
   "version": "2.4.0"
  }
 },
 "nbformat": 4,
 "nbformat_minor": 5
}
