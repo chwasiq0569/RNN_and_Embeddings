{
 "cells": [
  {
   "cell_type": "code",
   "execution_count": 1,
   "id": "a06fb746",
   "metadata": {
    "_cell_guid": "b1076dfc-b9ad-4769-8c92-a6c4dae69d19",
    "_uuid": "8f2839f25d086af736a60e9eeb907d3b93b6e0e5",
    "execution": {
     "iopub.execute_input": "2023-05-06T10:18:01.748840Z",
     "iopub.status.busy": "2023-05-06T10:18:01.748437Z",
     "iopub.status.idle": "2023-05-06T10:18:01.759042Z",
     "shell.execute_reply": "2023-05-06T10:18:01.758318Z"
    },
    "papermill": {
     "duration": 0.020294,
     "end_time": "2023-05-06T10:18:01.760982",
     "exception": false,
     "start_time": "2023-05-06T10:18:01.740688",
     "status": "completed"
    },
    "tags": []
   },
   "outputs": [],
   "source": [
    "# This Python 3 environment comes with many helpful analytics libraries installed\n",
    "# It is defined by the kaggle/python Docker image: https://github.com/kaggle/docker-python\n",
    "# For example, here's several helpful packages to load\n",
    "\n",
    "import numpy as np # linear algebra\n",
    "import pandas as pd # data processing, CSV file I/O (e.g. pd.read_csv)\n",
    "\n",
    "# Input data files are available in the read-only \"../input/\" directory\n",
    "# For example, running this (by clicking run or pressing Shift+Enter) will list all files under the input directory\n",
    "\n",
    "import os\n",
    "for dirname, _, filenames in os.walk('/kaggle/input'):\n",
    "    for filename in filenames:\n",
    "        print(os.path.join(dirname, filename))\n",
    "\n",
    "# You can write up to 20GB to the current directory (/kaggle/working/) that gets preserved as output when you create a version using \"Save & Run All\" \n",
    "# You can also write temporary files to /kaggle/temp/, but they won't be saved outside of the current session"
   ]
  },
  {
   "cell_type": "code",
   "execution_count": 2,
   "id": "d1f82993",
   "metadata": {
    "execution": {
     "iopub.execute_input": "2023-05-06T10:18:01.771596Z",
     "iopub.status.busy": "2023-05-06T10:18:01.770310Z",
     "iopub.status.idle": "2023-05-06T10:18:01.774770Z",
     "shell.execute_reply": "2023-05-06T10:18:01.773995Z"
    },
    "papermill": {
     "duration": 0.011336,
     "end_time": "2023-05-06T10:18:01.776567",
     "exception": false,
     "start_time": "2023-05-06T10:18:01.765231",
     "status": "completed"
    },
    "tags": []
   },
   "outputs": [],
   "source": [
    "docs = ['go pakistan',\n",
    "\t\t'pakistan pakistan',\n",
    "\t\t'hip hip hurray',\n",
    "\t\t'jeetega bhai jeetega pakistan jeetega',\n",
    "\t\t'pakistan zindabad',\n",
    "\t\t'king babar',\n",
    "\t\t'inzi inzi',\n",
    "\t\t'afridi afridi',\n",
    "\t\t'pm pak zindabad',\n",
    "\t\t'inquilab zindabad']"
   ]
  },
  {
   "cell_type": "code",
   "execution_count": 3,
   "id": "e65c3f8d",
   "metadata": {
    "execution": {
     "iopub.execute_input": "2023-05-06T10:18:01.785867Z",
     "iopub.status.busy": "2023-05-06T10:18:01.785585Z",
     "iopub.status.idle": "2023-05-06T10:18:08.967447Z",
     "shell.execute_reply": "2023-05-06T10:18:08.966522Z"
    },
    "papermill": {
     "duration": 7.189371,
     "end_time": "2023-05-06T10:18:08.969961",
     "exception": false,
     "start_time": "2023-05-06T10:18:01.780590",
     "status": "completed"
    },
    "tags": []
   },
   "outputs": [
    {
     "name": "stderr",
     "output_type": "stream",
     "text": [
      "/opt/conda/lib/python3.10/site-packages/scipy/__init__.py:146: UserWarning: A NumPy version >=1.16.5 and <1.23.0 is required for this version of SciPy (detected version 1.23.5\n",
      "  warnings.warn(f\"A NumPy version >={np_minversion} and <{np_maxversion}\"\n"
     ]
    }
   ],
   "source": [
    "from keras.preprocessing.text import Tokenizer\n",
    "tokenizer = Tokenizer(oov_token='<nothing>')"
   ]
  },
  {
   "cell_type": "code",
   "execution_count": 4,
   "id": "c6ac5879",
   "metadata": {
    "execution": {
     "iopub.execute_input": "2023-05-06T10:18:08.980898Z",
     "iopub.status.busy": "2023-05-06T10:18:08.979763Z",
     "iopub.status.idle": "2023-05-06T10:18:08.984395Z",
     "shell.execute_reply": "2023-05-06T10:18:08.983557Z"
    },
    "papermill": {
     "duration": 0.011878,
     "end_time": "2023-05-06T10:18:08.986344",
     "exception": false,
     "start_time": "2023-05-06T10:18:08.974466",
     "status": "completed"
    },
    "tags": []
   },
   "outputs": [],
   "source": [
    "tokenizer.fit_on_texts(docs)"
   ]
  },
  {
   "cell_type": "code",
   "execution_count": 5,
   "id": "0db6a6d2",
   "metadata": {
    "execution": {
     "iopub.execute_input": "2023-05-06T10:18:08.995775Z",
     "iopub.status.busy": "2023-05-06T10:18:08.995373Z",
     "iopub.status.idle": "2023-05-06T10:18:09.002084Z",
     "shell.execute_reply": "2023-05-06T10:18:09.001268Z"
    },
    "papermill": {
     "duration": 0.013568,
     "end_time": "2023-05-06T10:18:09.004017",
     "exception": false,
     "start_time": "2023-05-06T10:18:08.990449",
     "status": "completed"
    },
    "tags": []
   },
   "outputs": [
    {
     "data": {
      "text/plain": [
       "{'<nothing>': 1,\n",
       " 'pakistan': 2,\n",
       " 'jeetega': 3,\n",
       " 'zindabad': 4,\n",
       " 'hip': 5,\n",
       " 'inzi': 6,\n",
       " 'afridi': 7,\n",
       " 'go': 8,\n",
       " 'hurray': 9,\n",
       " 'bhai': 10,\n",
       " 'king': 11,\n",
       " 'babar': 12,\n",
       " 'pm': 13,\n",
       " 'pak': 14,\n",
       " 'inquilab': 15}"
      ]
     },
     "execution_count": 5,
     "metadata": {},
     "output_type": "execute_result"
    }
   ],
   "source": [
    "tokenizer.word_index"
   ]
  },
  {
   "cell_type": "code",
   "execution_count": 6,
   "id": "c5f1355e",
   "metadata": {
    "execution": {
     "iopub.execute_input": "2023-05-06T10:18:09.013860Z",
     "iopub.status.busy": "2023-05-06T10:18:09.013384Z",
     "iopub.status.idle": "2023-05-06T10:18:09.019179Z",
     "shell.execute_reply": "2023-05-06T10:18:09.018357Z"
    },
    "papermill": {
     "duration": 0.012653,
     "end_time": "2023-05-06T10:18:09.020954",
     "exception": false,
     "start_time": "2023-05-06T10:18:09.008301",
     "status": "completed"
    },
    "tags": []
   },
   "outputs": [
    {
     "data": {
      "text/plain": [
       "OrderedDict([('go', 1),\n",
       "             ('pakistan', 5),\n",
       "             ('hip', 2),\n",
       "             ('hurray', 1),\n",
       "             ('jeetega', 3),\n",
       "             ('bhai', 1),\n",
       "             ('zindabad', 3),\n",
       "             ('king', 1),\n",
       "             ('babar', 1),\n",
       "             ('inzi', 2),\n",
       "             ('afridi', 2),\n",
       "             ('pm', 1),\n",
       "             ('pak', 1),\n",
       "             ('inquilab', 1)])"
      ]
     },
     "execution_count": 6,
     "metadata": {},
     "output_type": "execute_result"
    }
   ],
   "source": [
    "tokenizer.word_counts"
   ]
  },
  {
   "cell_type": "code",
   "execution_count": 7,
   "id": "f7a10b27",
   "metadata": {
    "execution": {
     "iopub.execute_input": "2023-05-06T10:18:09.031631Z",
     "iopub.status.busy": "2023-05-06T10:18:09.030312Z",
     "iopub.status.idle": "2023-05-06T10:18:09.036148Z",
     "shell.execute_reply": "2023-05-06T10:18:09.035330Z"
    },
    "papermill": {
     "duration": 0.012679,
     "end_time": "2023-05-06T10:18:09.037929",
     "exception": false,
     "start_time": "2023-05-06T10:18:09.025250",
     "status": "completed"
    },
    "tags": []
   },
   "outputs": [
    {
     "data": {
      "text/plain": [
       "10"
      ]
     },
     "execution_count": 7,
     "metadata": {},
     "output_type": "execute_result"
    }
   ],
   "source": [
    "tokenizer.document_count"
   ]
  },
  {
   "cell_type": "code",
   "execution_count": 8,
   "id": "d6e055d5",
   "metadata": {
    "execution": {
     "iopub.execute_input": "2023-05-06T10:18:09.049021Z",
     "iopub.status.busy": "2023-05-06T10:18:09.047740Z",
     "iopub.status.idle": "2023-05-06T10:18:09.054020Z",
     "shell.execute_reply": "2023-05-06T10:18:09.053185Z"
    },
    "papermill": {
     "duration": 0.013335,
     "end_time": "2023-05-06T10:18:09.055845",
     "exception": false,
     "start_time": "2023-05-06T10:18:09.042510",
     "status": "completed"
    },
    "tags": []
   },
   "outputs": [
    {
     "data": {
      "text/plain": [
       "[[8, 2],\n",
       " [2, 2],\n",
       " [5, 5, 9],\n",
       " [3, 10, 3, 2, 3],\n",
       " [2, 4],\n",
       " [11, 12],\n",
       " [6, 6],\n",
       " [7, 7],\n",
       " [13, 14, 4],\n",
       " [15, 4]]"
      ]
     },
     "execution_count": 8,
     "metadata": {},
     "output_type": "execute_result"
    }
   ],
   "source": [
    "sequences = tokenizer.texts_to_sequences(docs)\n",
    "sequences"
   ]
  },
  {
   "cell_type": "code",
   "execution_count": 9,
   "id": "730632f8",
   "metadata": {
    "execution": {
     "iopub.execute_input": "2023-05-06T10:18:09.065867Z",
     "iopub.status.busy": "2023-05-06T10:18:09.065386Z",
     "iopub.status.idle": "2023-05-06T10:18:09.069691Z",
     "shell.execute_reply": "2023-05-06T10:18:09.068835Z"
    },
    "papermill": {
     "duration": 0.011288,
     "end_time": "2023-05-06T10:18:09.071529",
     "exception": false,
     "start_time": "2023-05-06T10:18:09.060241",
     "status": "completed"
    },
    "tags": []
   },
   "outputs": [],
   "source": [
    "from keras.utils import pad_sequences\n",
    "\n",
    "sequences = pad_sequences(sequences, padding='post')"
   ]
  },
  {
   "cell_type": "code",
   "execution_count": 10,
   "id": "5d68585a",
   "metadata": {
    "execution": {
     "iopub.execute_input": "2023-05-06T10:18:09.082198Z",
     "iopub.status.busy": "2023-05-06T10:18:09.081517Z",
     "iopub.status.idle": "2023-05-06T10:18:09.087292Z",
     "shell.execute_reply": "2023-05-06T10:18:09.086369Z"
    },
    "papermill": {
     "duration": 0.0129,
     "end_time": "2023-05-06T10:18:09.089203",
     "exception": false,
     "start_time": "2023-05-06T10:18:09.076303",
     "status": "completed"
    },
    "tags": []
   },
   "outputs": [
    {
     "data": {
      "text/plain": [
       "array([[ 8,  2,  0,  0,  0],\n",
       "       [ 2,  2,  0,  0,  0],\n",
       "       [ 5,  5,  9,  0,  0],\n",
       "       [ 3, 10,  3,  2,  3],\n",
       "       [ 2,  4,  0,  0,  0],\n",
       "       [11, 12,  0,  0,  0],\n",
       "       [ 6,  6,  0,  0,  0],\n",
       "       [ 7,  7,  0,  0,  0],\n",
       "       [13, 14,  4,  0,  0],\n",
       "       [15,  4,  0,  0,  0]], dtype=int32)"
      ]
     },
     "execution_count": 10,
     "metadata": {},
     "output_type": "execute_result"
    }
   ],
   "source": [
    "sequences"
   ]
  },
  {
   "cell_type": "code",
   "execution_count": 11,
   "id": "07ec329c",
   "metadata": {
    "execution": {
     "iopub.execute_input": "2023-05-06T10:18:09.100089Z",
     "iopub.status.busy": "2023-05-06T10:18:09.099315Z",
     "iopub.status.idle": "2023-05-06T10:18:09.107891Z",
     "shell.execute_reply": "2023-05-06T10:18:09.107103Z"
    },
    "papermill": {
     "duration": 0.015541,
     "end_time": "2023-05-06T10:18:09.109649",
     "exception": false,
     "start_time": "2023-05-06T10:18:09.094108",
     "status": "completed"
    },
    "tags": []
   },
   "outputs": [],
   "source": [
    "from keras.datasets import imdb\n",
    "from keras import Sequential\n",
    "from keras.layers import Dense, SimpleRNN, Embedding, Flatten\n",
    "\n"
   ]
  },
  {
   "cell_type": "code",
   "execution_count": 12,
   "id": "50d0d3d5",
   "metadata": {
    "execution": {
     "iopub.execute_input": "2023-05-06T10:18:09.119957Z",
     "iopub.status.busy": "2023-05-06T10:18:09.119280Z",
     "iopub.status.idle": "2023-05-06T10:18:13.341591Z",
     "shell.execute_reply": "2023-05-06T10:18:13.340631Z"
    },
    "papermill": {
     "duration": 4.230175,
     "end_time": "2023-05-06T10:18:13.344295",
     "exception": false,
     "start_time": "2023-05-06T10:18:09.114120",
     "status": "completed"
    },
    "tags": []
   },
   "outputs": [
    {
     "name": "stdout",
     "output_type": "stream",
     "text": [
      "Downloading data from https://storage.googleapis.com/tensorflow/tf-keras-datasets/imdb.npz\n",
      "17464789/17464789 [==============================] - 0s 0us/step\n"
     ]
    }
   ],
   "source": [
    "(X_train, y_train), (X_test, y_test) = imdb.load_data()"
   ]
  },
  {
   "cell_type": "code",
   "execution_count": 13,
   "id": "2659a17d",
   "metadata": {
    "execution": {
     "iopub.execute_input": "2023-05-06T10:18:13.356047Z",
     "iopub.status.busy": "2023-05-06T10:18:13.355746Z",
     "iopub.status.idle": "2023-05-06T10:18:13.360949Z",
     "shell.execute_reply": "2023-05-06T10:18:13.360130Z"
    },
    "papermill": {
     "duration": 0.013193,
     "end_time": "2023-05-06T10:18:13.363003",
     "exception": false,
     "start_time": "2023-05-06T10:18:13.349810",
     "status": "completed"
    },
    "tags": []
   },
   "outputs": [
    {
     "data": {
      "text/plain": [
       "(25000,)"
      ]
     },
     "execution_count": 13,
     "metadata": {},
     "output_type": "execute_result"
    }
   ],
   "source": [
    "X_train.shape"
   ]
  },
  {
   "cell_type": "code",
   "execution_count": 14,
   "id": "8edfb357",
   "metadata": {
    "execution": {
     "iopub.execute_input": "2023-05-06T10:18:13.373853Z",
     "iopub.status.busy": "2023-05-06T10:18:13.373611Z",
     "iopub.status.idle": "2023-05-06T10:18:13.885835Z",
     "shell.execute_reply": "2023-05-06T10:18:13.884844Z"
    },
    "papermill": {
     "duration": 0.520438,
     "end_time": "2023-05-06T10:18:13.888260",
     "exception": false,
     "start_time": "2023-05-06T10:18:13.367822",
     "status": "completed"
    },
    "tags": []
   },
   "outputs": [],
   "source": [
    "X_train = pad_sequences(X_train, padding='post', maxlen=150)\n",
    "X_test = pad_sequences(X_test, padding='post', maxlen=150)"
   ]
  },
  {
   "cell_type": "code",
   "execution_count": 15,
   "id": "f7db1d49",
   "metadata": {
    "execution": {
     "iopub.execute_input": "2023-05-06T10:18:13.900603Z",
     "iopub.status.busy": "2023-05-06T10:18:13.900276Z",
     "iopub.status.idle": "2023-05-06T10:18:13.907420Z",
     "shell.execute_reply": "2023-05-06T10:18:13.906432Z"
    },
    "papermill": {
     "duration": 0.015412,
     "end_time": "2023-05-06T10:18:13.909444",
     "exception": false,
     "start_time": "2023-05-06T10:18:13.894032",
     "status": "completed"
    },
    "tags": []
   },
   "outputs": [
    {
     "data": {
      "text/plain": [
       "150"
      ]
     },
     "execution_count": 15,
     "metadata": {},
     "output_type": "execute_result"
    }
   ],
   "source": [
    "len(X_train[0])"
   ]
  },
  {
   "cell_type": "code",
   "execution_count": 16,
   "id": "35f3e934",
   "metadata": {
    "execution": {
     "iopub.execute_input": "2023-05-06T10:18:13.921159Z",
     "iopub.status.busy": "2023-05-06T10:18:13.920859Z",
     "iopub.status.idle": "2023-05-06T10:18:17.620357Z",
     "shell.execute_reply": "2023-05-06T10:18:17.619403Z"
    },
    "papermill": {
     "duration": 3.712123,
     "end_time": "2023-05-06T10:18:17.626811",
     "exception": false,
     "start_time": "2023-05-06T10:18:13.914688",
     "status": "completed"
    },
    "tags": []
   },
   "outputs": [
    {
     "name": "stdout",
     "output_type": "stream",
     "text": [
      "Model: \"sequential\"\n",
      "_________________________________________________________________\n",
      " Layer (type)                Output Shape              Param #   \n",
      "=================================================================\n",
      " simple_rnn (SimpleRNN)      (None, 32)                1088      \n",
      "                                                                 \n",
      " dense (Dense)               (None, 1)                 33        \n",
      "                                                                 \n",
      "=================================================================\n",
      "Total params: 1,121\n",
      "Trainable params: 1,121\n",
      "Non-trainable params: 0\n",
      "_________________________________________________________________\n"
     ]
    }
   ],
   "source": [
    "model = Sequential()\n",
    "\n",
    "model.add(SimpleRNN(32, input_shape=(150, 1), return_sequences=False))\n",
    "model.add(Dense(1, activation='sigmoid'))\n",
    "\n",
    "model.summary()"
   ]
  },
  {
   "cell_type": "code",
   "execution_count": 17,
   "id": "30f1c304",
   "metadata": {
    "execution": {
     "iopub.execute_input": "2023-05-06T10:18:17.639334Z",
     "iopub.status.busy": "2023-05-06T10:18:17.639069Z",
     "iopub.status.idle": "2023-05-06T10:32:40.750456Z",
     "shell.execute_reply": "2023-05-06T10:32:40.749402Z"
    },
    "papermill": {
     "duration": 863.119887,
     "end_time": "2023-05-06T10:32:40.752447",
     "exception": false,
     "start_time": "2023-05-06T10:18:17.632560",
     "status": "completed"
    },
    "tags": []
   },
   "outputs": [
    {
     "name": "stdout",
     "output_type": "stream",
     "text": [
      "Epoch 1/10\n",
      "782/782 [==============================] - 89s 108ms/step - loss: 0.7017 - accuracy: 0.5078 - val_loss: 0.6965 - val_accuracy: 0.5007\n",
      "Epoch 2/10\n",
      "782/782 [==============================] - 85s 108ms/step - loss: 0.6938 - accuracy: 0.5066 - val_loss: 0.6969 - val_accuracy: 0.5041\n",
      "Epoch 3/10\n",
      "782/782 [==============================] - 84s 107ms/step - loss: 0.6936 - accuracy: 0.5110 - val_loss: 0.6932 - val_accuracy: 0.5054\n",
      "Epoch 4/10\n",
      "782/782 [==============================] - 86s 110ms/step - loss: 0.6935 - accuracy: 0.5095 - val_loss: 0.6928 - val_accuracy: 0.5105\n",
      "Epoch 5/10\n",
      "782/782 [==============================] - 85s 108ms/step - loss: 0.6937 - accuracy: 0.5052 - val_loss: 0.6930 - val_accuracy: 0.5135\n",
      "Epoch 6/10\n",
      "782/782 [==============================] - 85s 108ms/step - loss: 0.6933 - accuracy: 0.5104 - val_loss: 0.6934 - val_accuracy: 0.5125\n",
      "Epoch 7/10\n",
      "782/782 [==============================] - 87s 111ms/step - loss: 0.6937 - accuracy: 0.5040 - val_loss: 0.6936 - val_accuracy: 0.5132\n",
      "Epoch 8/10\n",
      "782/782 [==============================] - 86s 109ms/step - loss: 0.6932 - accuracy: 0.5094 - val_loss: 0.6935 - val_accuracy: 0.4986\n",
      "Epoch 9/10\n",
      "782/782 [==============================] - 86s 111ms/step - loss: 0.6935 - accuracy: 0.5031 - val_loss: 0.6930 - val_accuracy: 0.5133\n",
      "Epoch 10/10\n",
      "782/782 [==============================] - 86s 110ms/step - loss: 0.6933 - accuracy: 0.5042 - val_loss: 0.6944 - val_accuracy: 0.4930\n"
     ]
    },
    {
     "data": {
      "text/plain": [
       "<keras.callbacks.History at 0x725bdf026ec0>"
      ]
     },
     "execution_count": 17,
     "metadata": {},
     "output_type": "execute_result"
    }
   ],
   "source": [
    "model.compile(loss='binary_crossentropy', optimizer='adam', metrics=['accuracy'])\n",
    "\n",
    "model.fit(X_train, y_train, epochs=10, validation_data=(X_test, y_test))"
   ]
  },
  {
   "cell_type": "code",
   "execution_count": null,
   "id": "43013dc9",
   "metadata": {
    "papermill": {
     "duration": 0.457497,
     "end_time": "2023-05-06T10:32:41.622934",
     "exception": false,
     "start_time": "2023-05-06T10:32:41.165437",
     "status": "completed"
    },
    "tags": []
   },
   "outputs": [],
   "source": []
  },
  {
   "cell_type": "markdown",
   "id": "09775882",
   "metadata": {
    "papermill": {
     "duration": 0.407484,
     "end_time": "2023-05-06T10:32:42.440140",
     "exception": false,
     "start_time": "2023-05-06T10:32:42.032656",
     "status": "completed"
    },
    "tags": []
   },
   "source": [
    "# Embeddings"
   ]
  },
  {
   "cell_type": "code",
   "execution_count": 18,
   "id": "7164d8cd",
   "metadata": {
    "execution": {
     "iopub.execute_input": "2023-05-06T10:32:43.326043Z",
     "iopub.status.busy": "2023-05-06T10:32:43.325707Z",
     "iopub.status.idle": "2023-05-06T10:32:43.427108Z",
     "shell.execute_reply": "2023-05-06T10:32:43.426251Z"
    },
    "papermill": {
     "duration": 0.531846,
     "end_time": "2023-05-06T10:32:43.431162",
     "exception": false,
     "start_time": "2023-05-06T10:32:42.899316",
     "status": "completed"
    },
    "tags": []
   },
   "outputs": [
    {
     "name": "stdout",
     "output_type": "stream",
     "text": [
      "Model: \"sequential_1\"\n",
      "_________________________________________________________________\n",
      " Layer (type)                Output Shape              Param #   \n",
      "=================================================================\n",
      " embedding (Embedding)       (None, 150, 64)           1088      \n",
      "                                                                 \n",
      " simple_rnn_1 (SimpleRNN)    (None, 32)                3104      \n",
      "                                                                 \n",
      " dense_1 (Dense)             (None, 1)                 33        \n",
      "                                                                 \n",
      "=================================================================\n",
      "Total params: 4,225\n",
      "Trainable params: 4,225\n",
      "Non-trainable params: 0\n",
      "_________________________________________________________________\n"
     ]
    }
   ],
   "source": [
    "model2 = Sequential()\n",
    "model2.add(Embedding(input_dim=17, output_dim=64, input_length=150))\n",
    "model2.add(SimpleRNN(32,return_sequences=False))\n",
    "model2.add(Dense(1, activation='sigmoid'))\n",
    "\n",
    "model2.summary()"
   ]
  },
  {
   "cell_type": "code",
   "execution_count": 19,
   "id": "dcd9c2e0",
   "metadata": {
    "execution": {
     "iopub.execute_input": "2023-05-06T10:32:44.338610Z",
     "iopub.status.busy": "2023-05-06T10:32:44.338217Z",
     "iopub.status.idle": "2023-05-06T10:40:07.236712Z",
     "shell.execute_reply": "2023-05-06T10:40:07.235713Z"
    },
    "papermill": {
     "duration": 443.372856,
     "end_time": "2023-05-06T10:40:07.239209",
     "exception": false,
     "start_time": "2023-05-06T10:32:43.866353",
     "status": "completed"
    },
    "tags": []
   },
   "outputs": [
    {
     "name": "stdout",
     "output_type": "stream",
     "text": [
      "Epoch 1/5\n",
      "782/782 [==============================] - 88s 110ms/step - loss: 0.6934 - acc: 0.5034 - val_loss: 0.6929 - val_acc: 0.5078\n",
      "Epoch 2/5\n",
      "782/782 [==============================] - 87s 111ms/step - loss: 0.6933 - acc: 0.5097 - val_loss: 0.6948 - val_acc: 0.5048\n",
      "Epoch 3/5\n",
      "782/782 [==============================] - 86s 110ms/step - loss: 0.6937 - acc: 0.5050 - val_loss: 0.6934 - val_acc: 0.5090\n",
      "Epoch 4/5\n",
      "782/782 [==============================] - 86s 110ms/step - loss: 0.6934 - acc: 0.5084 - val_loss: 0.6929 - val_acc: 0.5117\n",
      "Epoch 5/5\n",
      "782/782 [==============================] - 87s 111ms/step - loss: 0.6933 - acc: 0.5018 - val_loss: 0.6930 - val_acc: 0.5066\n"
     ]
    }
   ],
   "source": [
    "model.compile(optimizer='adam', loss='binary_crossentropy', metrics=['acc'])\n",
    "history = model.fit(X_train, y_train,epochs=5,validation_data=(X_test,y_test))"
   ]
  },
  {
   "cell_type": "code",
   "execution_count": null,
   "id": "285749fc",
   "metadata": {
    "papermill": {
     "duration": 0.687624,
     "end_time": "2023-05-06T10:40:08.568929",
     "exception": false,
     "start_time": "2023-05-06T10:40:07.881305",
     "status": "completed"
    },
    "tags": []
   },
   "outputs": [],
   "source": []
  }
 ],
 "metadata": {
  "kernelspec": {
   "display_name": "Python 3",
   "language": "python",
   "name": "python3"
  },
  "language_info": {
   "codemirror_mode": {
    "name": "ipython",
    "version": 3
   },
   "file_extension": ".py",
   "mimetype": "text/x-python",
   "name": "python",
   "nbconvert_exporter": "python",
   "pygments_lexer": "ipython3",
   "version": "3.10.10"
  },
  "papermill": {
   "default_parameters": {},
   "duration": 1340.465119,
   "end_time": "2023-05-06T10:40:12.402734",
   "environment_variables": {},
   "exception": null,
   "input_path": "__notebook__.ipynb",
   "output_path": "__notebook__.ipynb",
   "parameters": {},
   "start_time": "2023-05-06T10:17:51.937615",
   "version": "2.4.0"
  }
 },
 "nbformat": 4,
 "nbformat_minor": 5
}
